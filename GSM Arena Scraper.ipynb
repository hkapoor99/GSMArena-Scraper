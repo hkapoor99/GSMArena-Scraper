{
 "cells": [
  {
   "cell_type": "markdown",
   "metadata": {},
   "source": [
    "# GSM Arena Scraper\n",
    "### Importing "
   ]
  },
  {
   "cell_type": "code",
   "execution_count": null,
   "metadata": {},
   "outputs": [],
   "source": [
    "import requests\n",
    "from selenium import webdriver\n",
    "from bs4 import BeautifulSoup\n",
    "import pandas as pd\n",
    "import spacy\n",
    "from tqdm import tqdm\n",
    "import numpy as np\n",
    "import pandas as pd\n",
    "from datetime import datetime\n",
    "import time"
   ]
  },
  {
   "cell_type": "markdown",
   "metadata": {},
   "source": [
    "### Scraping brand page links"
   ]
  },
  {
   "cell_type": "code",
   "execution_count": 20,
   "metadata": {},
   "outputs": [],
   "source": [
    "url = 'https://www.gsmarena.com/makers.php3'\n",
    "response = requests.get(url)\n",
    "pg = response.content\n",
    "bs_test = BeautifulSoup(pg, \"html5lib\")"
   ]
  },
  {
   "cell_type": "code",
   "execution_count": 21,
   "metadata": {},
   "outputs": [],
   "source": [
    "m_l = []\n",
    "t = bs_test.find_all(\"td\")\n",
    "for i in range(len(t)):\n",
    "    m_l.append(\"https://www.gsmarena.com/\" + str(t[i].find(\"a\").get(\"href\")))"
   ]
  },
  {
   "cell_type": "code",
   "execution_count": 22,
   "metadata": {},
   "outputs": [
    {
     "data": {
      "text/plain": [
       "['https://www.gsmarena.com/acer-phones-59.php',\n",
       " 'https://www.gsmarena.com/alcatel-phones-5.php',\n",
       " 'https://www.gsmarena.com/allview-phones-88.php',\n",
       " 'https://www.gsmarena.com/amazon-phones-76.php',\n",
       " 'https://www.gsmarena.com/amoi-phones-28.php']"
      ]
     },
     "execution_count": 22,
     "metadata": {},
     "output_type": "execute_result"
    }
   ],
   "source": [
    "m_l[:5]"
   ]
  },
  {
   "cell_type": "markdown",
   "metadata": {},
   "source": [
    "### Brand page links with links to every page number"
   ]
  },
  {
   "cell_type": "code",
   "execution_count": 23,
   "metadata": {},
   "outputs": [
    {
     "name": "stderr",
     "output_type": "stream",
     "text": [
      "100%|██████████| 117/117 [01:06<00:00,  1.77it/s]\n"
     ]
    }
   ],
   "source": [
    "m_l_2 = []\n",
    "for i in tqdm(m_l):\n",
    "    url = i\n",
    "    response = requests.get(url)\n",
    "    pg = response.content\n",
    "    bs_test = BeautifulSoup(pg, \"html5lib\")\n",
    "    m_l_2.append(i)\n",
    "    try:\n",
    "        t = bs_test.find(\"div\", {\"class\":\"nav-pages\"}).find_all(\"a\")\n",
    "    except:\n",
    "        continue;\n",
    "    for j in t:\n",
    "        m_l_2.append(\"https://www.gsmarena.com/\" + str(j.get(\"href\")))"
   ]
  },
  {
   "cell_type": "code",
   "execution_count": 99,
   "metadata": {},
   "outputs": [
    {
     "data": {
      "text/plain": [
       "318"
      ]
     },
     "execution_count": 99,
     "metadata": {},
     "output_type": "execute_result"
    }
   ],
   "source": [
    "len(m_l_2)"
   ]
  },
  {
   "cell_type": "markdown",
   "metadata": {},
   "source": [
    "### Mobile phone page links"
   ]
  },
  {
   "cell_type": "code",
   "execution_count": 30,
   "metadata": {},
   "outputs": [
    {
     "name": "stderr",
     "output_type": "stream",
     "text": [
      "100%|██████████| 318/318 [00:00<00:00, 475.80it/s]\n"
     ]
    }
   ],
   "source": [
    "m_l_3 = []\n",
    "for i in tqdm(m_l_2):\n",
    "    t = bs_test.find(\"div\", {\"class\":\"makers\"}).find_all(\"li\")\n",
    "    for j in t:\n",
    "        m_l_3.append(\"https://www.gsmarena.com/\" + str(j.find(\"a\").get(\"href\")))"
   ]
  },
  {
   "cell_type": "code",
   "execution_count": 32,
   "metadata": {},
   "outputs": [
    {
     "data": {
      "text/plain": [
       "12720"
      ]
     },
     "execution_count": 32,
     "metadata": {},
     "output_type": "execute_result"
    }
   ],
   "source": [
    "len(m_l_3)"
   ]
  },
  {
   "cell_type": "markdown",
   "metadata": {},
   "source": [
    "### Final dataframe with all features"
   ]
  },
  {
   "cell_type": "code",
   "execution_count": 92,
   "metadata": {},
   "outputs": [
    {
     "name": "stderr",
     "output_type": "stream",
     "text": [
      "100%|██████████| 10/10 [00:07<00:00,  1.38it/s]\n"
     ]
    }
   ],
   "source": [
    "brand = []\n",
    "m_name = []\n",
    "features = []\n",
    "for i in tqdm(m_l_3):\n",
    "    url = i\n",
    "    response = requests.get(url)\n",
    "    #time.sleep(3)\n",
    "    pg = response.content\n",
    "    bs_test = BeautifulSoup(pg, \"html5lib\")\n",
    "    try:\n",
    "        t = bs_test.find(\"h1\", {\"class\":\"specs-phone-name-title\"}).text.split(\" \")\n",
    "    except:\n",
    "        continue;\n",
    "    if t[0] == \"Fujitsu\" or t[0] == \"VK\" or t[1] == \"Ericsson\":\n",
    "        brand.append(\" \".join(t[:2]))\n",
    "        m_name.append(\" \".join(t[2:]))\n",
    "        continue;\n",
    "    brand.append(\" \".join(t[0:1]))\n",
    "    m_name.append(\" \".join(t[1:]))\n",
    "    f = bs_test.find(\"div\", {\"id\":\"specs-list\"}).find_all(\"tr\")\n",
    "    features_d = {}\n",
    "    for j in f:\n",
    "        try:\n",
    "            heading = j.find(\"th\")\n",
    "            current_h = heading.text\n",
    "            features_d[current_h] = {}\n",
    "        except:\n",
    "            pass\n",
    "        try:\n",
    "            f2 = j.find_all(\"td\")\n",
    "            features_d[current_h][f2[0].text] = f2[1].text\n",
    "        except:\n",
    "            pass\n",
    "    features.append(features_d)"
   ]
  },
  {
   "cell_type": "code",
   "execution_count": 95,
   "metadata": {},
   "outputs": [],
   "source": [
    "mobile_data = pd.DataFrame({\"Brand\":brand,\"Mobile\":m_name,\"Features\":features})"
   ]
  },
  {
   "cell_type": "code",
   "execution_count": 96,
   "metadata": {},
   "outputs": [
    {
     "data": {
      "text/html": [
       "<div>\n",
       "<style scoped>\n",
       "    .dataframe tbody tr th:only-of-type {\n",
       "        vertical-align: middle;\n",
       "    }\n",
       "\n",
       "    .dataframe tbody tr th {\n",
       "        vertical-align: top;\n",
       "    }\n",
       "\n",
       "    .dataframe thead th {\n",
       "        text-align: right;\n",
       "    }\n",
       "</style>\n",
       "<table border=\"1\" class=\"dataframe\">\n",
       "  <thead>\n",
       "    <tr style=\"text-align: right;\">\n",
       "      <th></th>\n",
       "      <th>Brand</th>\n",
       "      <th>Mobile</th>\n",
       "      <th>Features</th>\n",
       "    </tr>\n",
       "  </thead>\n",
       "  <tbody>\n",
       "    <tr>\n",
       "      <th>0</th>\n",
       "      <td>ZTE</td>\n",
       "      <td>Blade 20 Pro 5G</td>\n",
       "      <td>{'Network': {'Technology': 'GSM / CDMA / HSPA ...</td>\n",
       "    </tr>\n",
       "    <tr>\n",
       "      <th>1</th>\n",
       "      <td>ZTE</td>\n",
       "      <td>Blade V2020 5G</td>\n",
       "      <td>{'Network': {'Technology': 'GSM / CDMA / HSPA ...</td>\n",
       "    </tr>\n",
       "    <tr>\n",
       "      <th>2</th>\n",
       "      <td>ZTE</td>\n",
       "      <td>Watch Live</td>\n",
       "      <td>{'Network': {'Technology': 'No cellular connec...</td>\n",
       "    </tr>\n",
       "    <tr>\n",
       "      <th>3</th>\n",
       "      <td>ZTE</td>\n",
       "      <td>Blade 20 5G</td>\n",
       "      <td>{'Network': {'Technology': 'GSM / CDMA / HSPA ...</td>\n",
       "    </tr>\n",
       "    <tr>\n",
       "      <th>4</th>\n",
       "      <td>ZTE</td>\n",
       "      <td>Blade A7s 2020</td>\n",
       "      <td>{'Network': {'Technology': 'GSM / HSPA / LTE',...</td>\n",
       "    </tr>\n",
       "  </tbody>\n",
       "</table>\n",
       "</div>"
      ],
      "text/plain": [
       "  Brand           Mobile                                           Features\n",
       "0   ZTE  Blade 20 Pro 5G  {'Network': {'Technology': 'GSM / CDMA / HSPA ...\n",
       "1   ZTE   Blade V2020 5G  {'Network': {'Technology': 'GSM / CDMA / HSPA ...\n",
       "2   ZTE       Watch Live  {'Network': {'Technology': 'No cellular connec...\n",
       "3   ZTE      Blade 20 5G  {'Network': {'Technology': 'GSM / CDMA / HSPA ...\n",
       "4   ZTE   Blade A7s 2020  {'Network': {'Technology': 'GSM / HSPA / LTE',..."
      ]
     },
     "execution_count": 96,
     "metadata": {},
     "output_type": "execute_result"
    }
   ],
   "source": [
    "mobile_data.head()"
   ]
  }
 ],
 "metadata": {
  "kernelspec": {
   "display_name": "Python 3",
   "language": "python",
   "name": "python3"
  },
  "language_info": {
   "codemirror_mode": {
    "name": "ipython",
    "version": 3
   },
   "file_extension": ".py",
   "mimetype": "text/x-python",
   "name": "python",
   "nbconvert_exporter": "python",
   "pygments_lexer": "ipython3",
   "version": "3.7.7"
  }
 },
 "nbformat": 4,
 "nbformat_minor": 4
}
